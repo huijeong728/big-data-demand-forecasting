{
 "cells": [
  {
   "cell_type": "markdown",
   "metadata": {},
   "source": [
    "### [Forecasting : principles and practice](https://otexts.com/fpp2/)"
   ]
  },
  {
   "cell_type": "markdown",
   "metadata": {},
   "source": [
    "# Ch1. Getting started"
   ]
  },
  {
   "cell_type": "markdown",
   "metadata": {},
   "source": [
    "### 1. What can we forecast?"
   ]
  },
  {
   "cell_type": "markdown",
   "metadata": {},
   "source": [
    "1) what can we forecast?\n",
    "   - daily electricity demand in 3 days time\n",
    "   - timing of next Halley's comet appearance\n",
    "   - time of sunrise this day next year\n",
    "   - Google stock price tomorrow\n",
    "   - Google stock price in 6 months time\n",
    "   - maximum temperature tomorrow\n",
    "   - exchange rate of $US/AUS next week\n",
    "   - total sales of drugs in Australian pharmacies next month"
   ]
  },
  {
   "cell_type": "markdown",
   "metadata": {},
   "source": [
    "2) which is easiest to forecast?\n",
    "   - How do we measure \"easiest\"?\n",
    "   - What make something easy/difficult to forecast?"
   ]
  },
  {
   "cell_type": "markdown",
   "metadata": {},
   "source": [
    "3) Factors affecting forecastability\n",
    "   - Something is easier to forecast if :\n",
    "     - We have a good understanding of the factors that contribute to it\n",
    "     - there is lots of data available;\n",
    "     - the forecasts cannot affect the thing we are trying to forecast.\n",
    "     - there is relatively los natural/unexplainable random variation.\n",
    "     - the future is somewhat similar to the past"
   ]
  },
  {
   "cell_type": "markdown",
   "metadata": {},
   "source": [
    "### 2. Time series data"
   ]
  },
  {
   "cell_type": "markdown",
   "metadata": {},
   "source": [
    "> Forecasting is estimating how **the sequence of observations** will continue into the future."
   ]
  },
  {
   "cell_type": "markdown",
   "metadata": {},
   "source": [
    "### 3. The statistical forecasting perspective"
   ]
  },
  {
   "cell_type": "markdown",
   "metadata": {},
   "source": [
    "- Thing to be forecast : **a random variable, $\\mathbf{y_t}$**\n",
    "- **Forecast distribution** : If $\\tau$ is all observations, then $\\boldsymbol{y_t|\\tau}$ mean \"the random variable $y_t$ given what we know in $\\tau$\"\n",
    "- The **\"point forecast\"** is the mean (or median) of $y_t|\\tau$, $\\boldsymbol{E(y_t|\\tau)=\\mu_t}$\n",
    "- The **\"forecast variance\"** is $\\mathbf{var[y_t|\\tau]}$\n",
    "- A **prediction interval** is a range of values of $y_t$ with high probability.\n",
    "- With time series, $\\mathbf{y_{t|t-1}=y_t|\\left\\{y_1, y_2,\\cdots ,y_{t-1}\\right\\}}$\n",
    "- An *h*-step forecast taking account of all observations up to time T : $\\hat{y}_{T+h|T}=E[y_{T+h}|y_1, y_2, \\cdots, y_T]$"
   ]
  },
  {
   "cell_type": "markdown",
   "metadata": {},
   "source": [
    "----------------------------------------------------------"
   ]
  }
 ],
 "metadata": {
  "kernelspec": {
   "display_name": "R",
   "language": "R",
   "name": "ir"
  },
  "language_info": {
   "codemirror_mode": "r",
   "file_extension": ".r",
   "mimetype": "text/x-r-source",
   "name": "R",
   "pygments_lexer": "r",
   "version": "3.6.1"
  }
 },
 "nbformat": 4,
 "nbformat_minor": 2
}
